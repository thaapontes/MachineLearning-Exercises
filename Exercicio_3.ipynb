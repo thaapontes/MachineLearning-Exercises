{
 "cells": [
  {
   "cell_type": "code",
   "execution_count": 53,
   "metadata": {},
   "outputs": [],
   "source": [
    "import pandas as pd\n",
    "import numpy as np\n",
    "from math import sqrt\n",
    "from sklearn.model_selection import LeaveOneOut\n",
    "from sklearn.linear_model import Lasso\n",
    "from sklearn.metrics import mean_squared_error"
   ]
  },
  {
   "cell_type": "code",
   "execution_count": 54,
   "metadata": {},
   "outputs": [
    {
     "name": "stdout",
     "output_type": "stream",
     "text": [
      "1000\n"
     ]
    },
    {
     "data": {
      "text/html": [
       "<div>\n",
       "<style scoped>\n",
       "    .dataframe tbody tr th:only-of-type {\n",
       "        vertical-align: middle;\n",
       "    }\n",
       "\n",
       "    .dataframe tbody tr th {\n",
       "        vertical-align: top;\n",
       "    }\n",
       "\n",
       "    .dataframe thead th {\n",
       "        text-align: right;\n",
       "    }\n",
       "</style>\n",
       "<table border=\"1\" class=\"dataframe\">\n",
       "  <thead>\n",
       "    <tr style=\"text-align: right;\">\n",
       "      <th></th>\n",
       "      <th>x0</th>\n",
       "      <th>x1</th>\n",
       "      <th>x2</th>\n",
       "      <th>x3</th>\n",
       "      <th>x4</th>\n",
       "      <th>x5</th>\n",
       "      <th>x6</th>\n",
       "      <th>x7</th>\n",
       "      <th>x8</th>\n",
       "      <th>x9</th>\n",
       "      <th>target</th>\n",
       "    </tr>\n",
       "  </thead>\n",
       "  <tbody>\n",
       "    <tr>\n",
       "      <th>0</th>\n",
       "      <td>-0.640731</td>\n",
       "      <td>0.677929</td>\n",
       "      <td>-0.285153</td>\n",
       "      <td>0.469127</td>\n",
       "      <td>1.629361</td>\n",
       "      <td>-0.407575</td>\n",
       "      <td>0.677929</td>\n",
       "      <td>0.781634</td>\n",
       "      <td>-0.132065</td>\n",
       "      <td>-0.125852</td>\n",
       "      <td>238.342700</td>\n",
       "    </tr>\n",
       "    <tr>\n",
       "      <th>1</th>\n",
       "      <td>-1.257229</td>\n",
       "      <td>0.199883</td>\n",
       "      <td>0.369755</td>\n",
       "      <td>0.905828</td>\n",
       "      <td>2.199284</td>\n",
       "      <td>0.407064</td>\n",
       "      <td>0.199883</td>\n",
       "      <td>-0.276165</td>\n",
       "      <td>0.136314</td>\n",
       "      <td>-0.835977</td>\n",
       "      <td>30.823609</td>\n",
       "    </tr>\n",
       "    <tr>\n",
       "      <th>2</th>\n",
       "      <td>-1.351330</td>\n",
       "      <td>-0.159821</td>\n",
       "      <td>-0.667650</td>\n",
       "      <td>-0.067187</td>\n",
       "      <td>1.309160</td>\n",
       "      <td>-0.702359</td>\n",
       "      <td>-0.159821</td>\n",
       "      <td>-0.133427</td>\n",
       "      <td>-0.683428</td>\n",
       "      <td>-1.016574</td>\n",
       "      <td>-135.707090</td>\n",
       "    </tr>\n",
       "    <tr>\n",
       "      <th>3</th>\n",
       "      <td>-2.432787</td>\n",
       "      <td>-0.996849</td>\n",
       "      <td>-0.704290</td>\n",
       "      <td>-0.750186</td>\n",
       "      <td>1.066865</td>\n",
       "      <td>-0.082292</td>\n",
       "      <td>-0.996849</td>\n",
       "      <td>-1.860141</td>\n",
       "      <td>-1.151661</td>\n",
       "      <td>-1.850721</td>\n",
       "      <td>-579.983211</td>\n",
       "    </tr>\n",
       "    <tr>\n",
       "      <th>4</th>\n",
       "      <td>-1.475213</td>\n",
       "      <td>-0.318454</td>\n",
       "      <td>-0.682221</td>\n",
       "      <td>-0.151922</td>\n",
       "      <td>1.148624</td>\n",
       "      <td>-0.583869</td>\n",
       "      <td>-0.318454</td>\n",
       "      <td>-0.621999</td>\n",
       "      <td>-0.619677</td>\n",
       "      <td>-1.134553</td>\n",
       "      <td>-250.729762</td>\n",
       "    </tr>\n",
       "  </tbody>\n",
       "</table>\n",
       "</div>"
      ],
      "text/plain": [
       "         x0        x1        x2        x3        x4        x5        x6  \\\n",
       "0 -0.640731  0.677929 -0.285153  0.469127  1.629361 -0.407575  0.677929   \n",
       "1 -1.257229  0.199883  0.369755  0.905828  2.199284  0.407064  0.199883   \n",
       "2 -1.351330 -0.159821 -0.667650 -0.067187  1.309160 -0.702359 -0.159821   \n",
       "3 -2.432787 -0.996849 -0.704290 -0.750186  1.066865 -0.082292 -0.996849   \n",
       "4 -1.475213 -0.318454 -0.682221 -0.151922  1.148624 -0.583869 -0.318454   \n",
       "\n",
       "         x7        x8        x9      target  \n",
       "0  0.781634 -0.132065 -0.125852  238.342700  \n",
       "1 -0.276165  0.136314 -0.835977   30.823609  \n",
       "2 -0.133427 -0.683428 -1.016574 -135.707090  \n",
       "3 -1.860141 -1.151661 -1.850721 -579.983211  \n",
       "4 -0.621999 -0.619677 -1.134553 -250.729762  "
      ]
     },
     "execution_count": 54,
     "metadata": {},
     "output_type": "execute_result"
    }
   ],
   "source": [
    "csv_path = r\"C:\\Users\\thaba\\Desktop\\exeIA\\reg01.csv\"\n",
    "dataframe = pd.read_csv(csv_path)\n",
    "count_row = dataframe.shape[0]\n",
    "print(count_row)\n",
    "dataframe.head()"
   ]
  },
  {
   "cell_type": "code",
   "execution_count": 62,
   "metadata": {},
   "outputs": [],
   "source": [
    "loo = LeaveOneOut()\n",
    "loo.get_n_splits(dataframe)\n",
    "errors = []\n",
    "errors2 = []\n",
    "for train_index, test_index in loo.split(dataframe):\n",
    "    #print(\"TRAIN:\", train_index, \"TEST:\", test_index)\n",
    "    x_train, x_test = dataframe[[\"x\"+str(x) for x in range(10)]].iloc[train_index], dataframe[[\"x\"+str(x) for x in range(10)]].iloc[test_index]\n",
    "    y_train, y_test = dataframe[['target']].iloc[train_index], dataframe[['target']].iloc[test_index]\n",
    "    lasso = Lasso(alpha=1)\n",
    "    lasso.fit(x_train,y_train)\n",
    "    y_pred = lasso.predict(x_test)\n",
    "    errors.append(sqrt(mean_squared_error(y_test, y_pred)))\n",
    "    y_pred2 = lasso.predict(x_train)\n",
    "    errors2.append(sqrt(mean_squared_error(y_train, y_pred2)))\n",
    "    \n",
    "#x_train.tail()"
   ]
  },
  {
   "cell_type": "code",
   "execution_count": 63,
   "metadata": {},
   "outputs": [
    {
     "name": "stdout",
     "output_type": "stream",
     "text": [
      "15.465218791702426\n",
      "19.220259837710355\n"
     ]
    }
   ],
   "source": [
    "print(sum(errors)/len(errors))\n",
    "print(sum(errors2)/len(errors2))"
   ]
  },
  {
   "cell_type": "code",
   "execution_count": null,
   "metadata": {},
   "outputs": [],
   "source": []
  }
 ],
 "metadata": {
  "kernelspec": {
   "display_name": "Python 3",
   "language": "python",
   "name": "python3"
  },
  "language_info": {
   "codemirror_mode": {
    "name": "ipython",
    "version": 3
   },
   "file_extension": ".py",
   "mimetype": "text/x-python",
   "name": "python",
   "nbconvert_exporter": "python",
   "pygments_lexer": "ipython3",
   "version": "3.6.8"
  }
 },
 "nbformat": 4,
 "nbformat_minor": 2
}
