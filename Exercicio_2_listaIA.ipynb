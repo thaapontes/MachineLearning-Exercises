{
 "cells": [
  {
   "cell_type": "code",
   "execution_count": 63,
   "metadata": {},
   "outputs": [],
   "source": [
    "import pandas as pd\n",
    "import numpy as np\n",
    "from sklearn.neighbors import KNeighborsClassifier\n",
    "from sklearn.metrics import accuracy_score"
   ]
  },
  {
   "cell_type": "code",
   "execution_count": 112,
   "metadata": {},
   "outputs": [],
   "source": [
    "csv_path = r\"C:\\Users\\thaba\\Desktop\\exeIA\\class02.csv\"\n",
    "dataframe = pd.read_csv(csv_path)\n",
    "count_row = dataframe.shape[0]"
   ]
  },
  {
   "cell_type": "code",
   "execution_count": 113,
   "metadata": {},
   "outputs": [],
   "source": [
    "df_1_valid = dataframe.iloc[0:300]\n",
    "df_1_test = dataframe.iloc[300:1500]\n",
    "df_2_valid = dataframe.iloc[300:600]\n",
    "df_2_test = pd.concat([dataframe.iloc[0:300],dataframe.iloc[600:1500]])\n",
    "df_3_valid = dataframe.iloc[600:900]\n",
    "df_3_test = pd.concat([dataframe.iloc[0:600],dataframe.iloc[900:1500]])\n",
    "df_4_valid = dataframe.iloc[900:1200]\n",
    "df_4_test = pd.concat([dataframe.iloc[0:900],dataframe.iloc[1200:1500]])\n",
    "df_5_valid = dataframe.iloc[1200:1500]\n",
    "df_5_test = dataframe.iloc[0:1200]\n",
    "#print(df_2_test.shape[0],df_2_validation.shape[0])"
   ]
  },
  {
   "cell_type": "code",
   "execution_count": 114,
   "metadata": {},
   "outputs": [],
   "source": [
    "df_1_X_valid = df_1_valid[[\"x\"+str(x) for x in range(100)]]\n",
    "df_1_Y_valid = df_1_valid[['target']]\n",
    "df_1_X_test = df_1_test[[\"x\"+str(x) for x in range(100)]]\n",
    "df_1_Y_test = df_1_test[['target']]"
   ]
  },
  {
   "cell_type": "code",
   "execution_count": 115,
   "metadata": {},
   "outputs": [],
   "source": [
    "df_2_X_valid = df_2_valid[[\"x\"+str(x) for x in range(100)]]\n",
    "df_2_Y_valid = df_2_valid[['target']]\n",
    "df_2_X_test = df_2_test[[\"x\"+str(x) for x in range(100)]]\n",
    "df_2_Y_test = df_2_test[['target']]"
   ]
  },
  {
   "cell_type": "code",
   "execution_count": 116,
   "metadata": {},
   "outputs": [],
   "source": [
    "df_3_X_valid = df_3_valid[[\"x\"+str(x) for x in range(100)]]\n",
    "df_3_Y_valid = df_3_valid[['target']]\n",
    "df_3_X_test = df_3_test[[\"x\"+str(x) for x in range(100)]]\n",
    "df_3_Y_test = df_3_test[['target']]"
   ]
  },
  {
   "cell_type": "code",
   "execution_count": 117,
   "metadata": {},
   "outputs": [],
   "source": [
    "df_4_X_valid = df_4_valid[[\"x\"+str(x) for x in range(100)]]\n",
    "df_4_Y_valid = df_4_valid[['target']]\n",
    "df_4_X_test = df_4_test[[\"x\"+str(x) for x in range(100)]]\n",
    "df_4_Y_test = df_4_test[['target']]"
   ]
  },
  {
   "cell_type": "code",
   "execution_count": 118,
   "metadata": {},
   "outputs": [],
   "source": [
    "df_5_X_valid = df_5_valid[[\"x\"+str(x) for x in range(100)]]\n",
    "df_5_Y_valid = df_5_valid[['target']]\n",
    "df_5_X_test = df_5_test[[\"x\"+str(x) for x in range(100)]]\n",
    "df_5_Y_test = df_5_test[['target']]"
   ]
  },
  {
   "cell_type": "code",
   "execution_count": 119,
   "metadata": {},
   "outputs": [],
   "source": [
    "knn = KNeighborsClassifier(n_neighbors=10, metric='euclidean')\n",
    "knn.fit(df_1_X_test, df_1_Y_test['target'])\n",
    "y_pred1 = knn.predict(df_1_X_valid)"
   ]
  },
  {
   "cell_type": "code",
   "execution_count": 120,
   "metadata": {},
   "outputs": [],
   "source": [
    "knn = KNeighborsClassifier(n_neighbors=10, metric='euclidean')\n",
    "knn.fit(df_2_X_test, df_2_Y_test['target'])\n",
    "y_pred2 = knn.predict(df_2_X_valid)"
   ]
  },
  {
   "cell_type": "code",
   "execution_count": 121,
   "metadata": {},
   "outputs": [],
   "source": [
    "knn = KNeighborsClassifier(n_neighbors=10, metric='euclidean')\n",
    "knn.fit(df_3_X_test, df_3_Y_test['target'])\n",
    "y_pred3 = knn.predict(df_3_X_valid)"
   ]
  },
  {
   "cell_type": "code",
   "execution_count": 122,
   "metadata": {},
   "outputs": [],
   "source": [
    "knn = KNeighborsClassifier(n_neighbors=10, metric='euclidean')\n",
    "knn.fit(df_4_X_test, df_4_Y_test['target'])\n",
    "y_pred4 = knn.predict(df_4_X_valid)"
   ]
  },
  {
   "cell_type": "code",
   "execution_count": 123,
   "metadata": {},
   "outputs": [],
   "source": [
    "knn = KNeighborsClassifier(n_neighbors=10, metric='euclidean')\n",
    "knn.fit(df_5_X_test, df_5_Y_test['target'])\n",
    "y_pred5 = knn.predict(df_5_X_valid)"
   ]
  },
  {
   "cell_type": "code",
   "execution_count": 124,
   "metadata": {},
   "outputs": [],
   "source": [
    "accuracy_1 = accuracy_score(df_1_Y_valid['target'], y_pred1, normalize=True, sample_weight=None)\n",
    "accuracy_2 = accuracy_score(df_2_Y_valid['target'], y_pred2, normalize=True, sample_weight=None)\n",
    "accuracy_3 = accuracy_score(df_3_Y_valid['target'], y_pred3, normalize=True, sample_weight=None)\n",
    "accuracy_4 = accuracy_score(df_4_Y_valid['target'], y_pred4, normalize=True, sample_weight=None)\n",
    "accuracy_5 = accuracy_score(df_5_Y_valid['target'], y_pred5, normalize=True, sample_weight=None)"
   ]
  },
  {
   "cell_type": "code",
   "execution_count": 125,
   "metadata": {},
   "outputs": [
    {
     "name": "stdout",
     "output_type": "stream",
     "text": [
      "0.84 0.8533333333333334 0.8366666666666667 0.82 0.8433333333333334\n",
      "0.8386666666666667\n"
     ]
    }
   ],
   "source": [
    "print(accuracy_1, accuracy_2, accuracy_3, accuracy_4, accuracy_5)\n",
    "soma=sum([accuracy_1, accuracy_2, accuracy_3, accuracy_4, accuracy_5])\n",
    "print(soma/5)"
   ]
  },
  {
   "cell_type": "code",
   "execution_count": null,
   "metadata": {},
   "outputs": [],
   "source": []
  }
 ],
 "metadata": {
  "kernelspec": {
   "display_name": "Python 3",
   "language": "python",
   "name": "python3"
  },
  "language_info": {
   "codemirror_mode": {
    "name": "ipython",
    "version": 3
   },
   "file_extension": ".py",
   "mimetype": "text/x-python",
   "name": "python",
   "nbconvert_exporter": "python",
   "pygments_lexer": "ipython3",
   "version": "3.6.8"
  }
 },
 "nbformat": 4,
 "nbformat_minor": 2
}
