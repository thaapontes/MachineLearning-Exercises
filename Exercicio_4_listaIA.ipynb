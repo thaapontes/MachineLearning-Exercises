{
 "cells": [
  {
   "cell_type": "code",
   "execution_count": 132,
   "metadata": {},
   "outputs": [],
   "source": [
    "import pandas as pd\n",
    "import numpy as np\n",
    "from sklearn.tree import DecisionTreeRegressor\n",
    "from sklearn.metrics import mean_absolute_error"
   ]
  },
  {
   "cell_type": "code",
   "execution_count": 107,
   "metadata": {},
   "outputs": [
    {
     "name": "stdout",
     "output_type": "stream",
     "text": [
      "1000\n",
      "           x0        x1        x2        x3        x4        x5        x6  \\\n",
      "800  0.114375  1.378529  1.891866  1.870807  3.583676  1.856400  1.378529   \n",
      "801 -3.765661 -2.970685 -2.571735 -2.280256 -0.721519 -1.889711 -2.970685   \n",
      "802  0.571056  2.047164  2.239249  2.338654  4.046134  1.796914  2.047164   \n",
      "803 -1.583839 -0.560015  0.340840  0.592209  2.423534  0.607703 -0.560015   \n",
      "804 -0.934792  0.398389 -0.754283  0.064638  0.990405 -0.611285  0.398389   \n",
      "..        ...       ...       ...       ...       ...       ...       ...   \n",
      "995 -2.689327 -1.411535 -1.915789 -1.143871  0.081663 -1.346343 -1.411535   \n",
      "996 -1.107758  0.216680  0.131546  0.736586  1.891766  0.327636  0.216680   \n",
      "997 -1.064881 -0.006550 -0.275823  0.549323  1.591891 -0.898279 -0.006550   \n",
      "998 -1.535772 -0.526003 -1.227123 -0.435361  0.818343 -0.964515 -0.526003   \n",
      "999 -0.053385  1.421940  1.900907  2.475292  3.743909  1.999712  1.421940   \n",
      "\n",
      "           x7        x8        x9  ...       x11       x12       x13  \\\n",
      "800  0.888949  1.234091  0.602544  ...  1.870807  2.566357  0.839953   \n",
      "801 -3.611142 -2.482570 -3.267798  ... -2.280256 -1.388722 -3.126229   \n",
      "802  1.647206  1.678148  1.078408  ...  2.338654  3.018646  1.353639   \n",
      "803 -0.853628  0.151123 -0.895506  ...  0.592209  1.505199 -0.261357   \n",
      "804 -0.198304 -0.870644 -0.626690  ...  0.064638  0.372523 -0.556294   \n",
      "..        ...       ...       ...  ...       ...       ...       ...   \n",
      "995 -1.865909 -2.227029 -2.051356  ... -1.143871 -0.703089 -2.097020   \n",
      "996 -0.428093 -0.195246 -0.511939  ...  0.736586  1.071096 -0.276720   \n",
      "997  0.522112 -0.409166 -0.624230  ...  0.549323  0.742708 -0.104400   \n",
      "998 -1.019975 -1.195587 -1.115943  ... -0.435361  0.048693 -0.991457   \n",
      "999  0.758741  1.773876  0.739653  ...  2.475292  2.813624  1.365903   \n",
      "\n",
      "          x14       x15       x16       x17       x18       x19       target  \n",
      "800  2.341301  1.025490  2.566357  3.051431  1.296403  1.296403   573.380729  \n",
      "801 -0.880554 -2.821108 -1.388722 -1.216010 -3.377536 -3.377536 -1390.959219  \n",
      "802  2.188370  1.635800  3.018646  3.590038  1.384298  1.384298   801.006243  \n",
      "803  1.327001  0.080537  1.505199  1.222734 -0.430641 -0.430641  -133.133294  \n",
      "804 -0.023488 -0.564735  0.372523  1.867470 -0.095033 -0.095033   -53.937849  \n",
      "..        ...       ...       ...       ...       ...       ...          ...  \n",
      "995 -0.783841 -2.086562 -0.703089  0.316618 -1.679922 -1.679922  -762.918185  \n",
      "996  1.045318  0.231603  1.071096  1.831135 -0.433774 -0.433774   -10.834464  \n",
      "997 -0.145467 -0.263540  0.742708  1.780474  0.016706  0.016706    50.456064  \n",
      "998 -0.219460 -1.151696  0.048693  1.196512 -1.356571 -1.356571  -426.328705  \n",
      "999  2.772035  1.683753  2.813624  3.000795  1.007229  1.007229   622.632809  \n",
      "\n",
      "[200 rows x 21 columns]\n"
     ]
    }
   ],
   "source": [
    "csv_path = r\"C:\\Users\\thaba\\Desktop\\exeIA\\reg02.csv\"\n",
    "dataframe = pd.read_csv(csv_path)\n",
    "count_row = dataframe.shape[0]\n",
    "print(count_row)\n",
    "print(dataframe[800:1000])"
   ]
  },
  {
   "cell_type": "code",
   "execution_count": 108,
   "metadata": {},
   "outputs": [
    {
     "name": "stdout",
     "output_type": "stream",
     "text": [
      "800 800\n"
     ]
    }
   ],
   "source": [
    "df_1_valid = dataframe.iloc[0:200]\n",
    "df_1_test = dataframe.iloc[200:1000]\n",
    "df_2_valid = dataframe.iloc[200:400]\n",
    "df_2_test = pd.concat([dataframe.iloc[0:200],dataframe.iloc[400:1000]])\n",
    "df_3_valid = dataframe.iloc[400:600]\n",
    "df_3_test = pd.concat([dataframe.iloc[0:400],dataframe.iloc[600:1000]])\n",
    "df_4_valid = dataframe.iloc[600:800]\n",
    "df_4_test = pd.concat([dataframe.iloc[0:600],dataframe.iloc[800:1000]])\n",
    "df_5_valid = dataframe.iloc[800:1000]\n",
    "df_5_test = dataframe.iloc[0:800]\n",
    "print(df_2_test.shape[0],df_2_validation.shape[0])"
   ]
  },
  {
   "cell_type": "code",
   "execution_count": 109,
   "metadata": {},
   "outputs": [
    {
     "name": "stdout",
     "output_type": "stream",
     "text": [
      "           x0        x1        x2        x3        x4        x5        x6  \\\n",
      "0   -0.640731  0.677929 -0.285153  0.469127  1.629361 -0.407575  0.677929   \n",
      "1   -1.257229  0.199883  0.369755  0.905828  2.199284  0.407064  0.199883   \n",
      "2   -1.351330 -0.159821 -0.667650 -0.067187  1.309160 -0.702359 -0.159821   \n",
      "3   -2.432787 -0.996849 -0.704290 -0.750186  1.066865 -0.082292 -0.996849   \n",
      "4   -1.475213 -0.318454 -0.682221 -0.151922  1.148624 -0.583869 -0.318454   \n",
      "..        ...       ...       ...       ...       ...       ...       ...   \n",
      "795 -0.431012  0.922867  0.107811  0.812239  1.956424 -0.316983  0.922867   \n",
      "796 -0.484810  0.285125  1.621386  1.858703  3.356788  1.859145  0.285125   \n",
      "797  0.067798  1.349449  0.592353  1.474824  2.505435  0.642989  1.349449   \n",
      "798 -2.150791 -0.824430 -0.602460 -0.139484  1.208554 -0.429875 -0.824430   \n",
      "799 -0.585400  0.400715  0.437270  0.934232  2.210651  0.820043  0.400715   \n",
      "\n",
      "           x7        x8        x9       x10       x11       x12       x13  \\\n",
      "0    0.781634 -0.132065 -0.125852 -0.407575  0.469127  0.976612 -0.237673   \n",
      "1   -0.276165  0.136314 -0.835977  0.407064  0.905828  1.523959 -0.376705   \n",
      "2   -0.133427 -0.683428 -1.016574 -0.702359 -0.067187  0.592357 -0.700500   \n",
      "3   -1.860141 -1.151661 -1.850721 -0.082292 -0.750186  0.159958 -1.482334   \n",
      "4   -0.621999 -0.619677 -1.134553 -0.583869 -0.151922  0.578886 -0.932404   \n",
      "..        ...       ...       ...       ...       ...       ...       ...   \n",
      "795  1.177150 -0.058182  0.033699 -0.316983  0.812239  1.170025  0.082181   \n",
      "796 -0.503038  1.099671  0.107228  1.859145  1.858703  2.334658  0.536415   \n",
      "797  1.030932  0.812710  0.418243  0.642989  1.474824  1.814160  0.793278   \n",
      "798 -1.638185 -1.003475 -1.565818 -0.429875 -0.139484  0.283490 -1.015926   \n",
      "799 -0.630187  0.224350  0.005602  0.820043  0.934232  1.370888  0.360560   \n",
      "\n",
      "          x14       x15       x16       x17       x18       x19  \n",
      "0    0.270627 -0.146189  0.976612  2.370730  0.783461  0.783461  \n",
      "1    0.811498  0.053166  1.523959  1.807168 -0.095143 -0.095143  \n",
      "2   -0.221701 -0.683485  0.592357  1.456616 -0.464433 -0.464433  \n",
      "3    0.538354 -1.391746  0.159958  0.603398 -1.372567 -1.372567  \n",
      "4   -0.025521 -0.436129  0.578886  1.341985 -0.803744 -0.803744  \n",
      "..        ...       ...       ...       ...       ...       ...  \n",
      "795  0.018851  0.039781  1.170025  2.697369  0.798382  0.798382  \n",
      "796  2.488725  1.061093  2.334658  2.305330 -0.202126 -0.202126  \n",
      "797  1.435203  0.847079  1.814160  2.936542  1.196705  1.196705  \n",
      "798  0.412451 -1.170844  0.283490  0.825188 -1.355315 -1.355315  \n",
      "799  1.530336  0.219928  1.370888  2.324791 -0.267493 -0.267493  \n",
      "\n",
      "[800 rows x 20 columns]\n"
     ]
    }
   ],
   "source": [
    "df_1_X_valid = df_1_valid[[\"x\"+str(x) for x in range(20)]]\n",
    "df_1_Y_valid = df_1_valid[['target']]\n",
    "df_1_X_test = df_1_test[[\"x\"+str(x) for x in range(20)]]\n",
    "df_1_Y_test = df_1_test[['target']]\n",
    "df_2_X_valid = df_2_valid[[\"x\"+str(x) for x in range(20)]]\n",
    "df_2_Y_valid = df_2_valid[['target']]\n",
    "df_2_X_test = df_2_test[[\"x\"+str(x) for x in range(20)]]\n",
    "df_2_Y_test = df_2_test[['target']]\n",
    "df_3_X_valid = df_3_valid[[\"x\"+str(x) for x in range(20)]]\n",
    "df_3_Y_valid = df_3_valid[['target']]\n",
    "df_3_X_test = df_3_test[[\"x\"+str(x) for x in range(20)]]\n",
    "df_3_Y_test = df_3_test[['target']]\n",
    "df_4_X_valid = df_4_valid[[\"x\"+str(x) for x in range(20)]]\n",
    "df_4_Y_valid = df_4_valid[['target']]\n",
    "df_4_X_test = df_4_test[[\"x\"+str(x) for x in range(20)]]\n",
    "df_4_Y_test = df_4_test[['target']]\n",
    "df_5_X_valid = df_5_valid[[\"x\"+str(x) for x in range(20)]]\n",
    "df_5_Y_valid = df_5_valid[['target']]\n",
    "df_5_X_test = df_5_test[[\"x\"+str(x) for x in range(20)]]\n",
    "df_5_Y_test = df_5_test[['target']]\n",
    "print(df_5_X_test)\n"
   ]
  },
  {
   "cell_type": "code",
   "execution_count": 165,
   "metadata": {},
   "outputs": [],
   "source": [
    "regressor = DecisionTreeRegressor(random_state = 0)\n",
    "regressor.fit(df_1_X_test,df_1_Y_test) \n",
    "y_pred1 = regressor.predict(df_1_X_valid)\n",
    "y_pred1t = regressor.predict(df_1_X_test.sample(200))"
   ]
  },
  {
   "cell_type": "code",
   "execution_count": 156,
   "metadata": {},
   "outputs": [],
   "source": [
    "regressor = DecisionTreeRegressor(random_state = 0)\n",
    "regressor.fit(df_2_X_test,df_2_Y_test) \n",
    "y_pred2 = regressor.predict(df_2_X_valid)"
   ]
  },
  {
   "cell_type": "code",
   "execution_count": 157,
   "metadata": {},
   "outputs": [],
   "source": [
    "regressor = DecisionTreeRegressor(random_state = 0)\n",
    "regressor.fit(df_3_X_test,df_3_Y_test) \n",
    "y_pred3 = regressor.predict(df_3_X_valid)"
   ]
  },
  {
   "cell_type": "code",
   "execution_count": 158,
   "metadata": {},
   "outputs": [],
   "source": [
    "regressor = DecisionTreeRegressor(random_state = 0)\n",
    "regressor.fit(df_4_X_test,df_4_Y_test) \n",
    "y_pred4 = regressor.predict(df_4_X_valid)"
   ]
  },
  {
   "cell_type": "code",
   "execution_count": 159,
   "metadata": {},
   "outputs": [],
   "source": [
    "regressor = DecisionTreeRegressor(random_state = 0)\n",
    "regressor.fit(df_5_X_test,df_5_Y_test) \n",
    "y_pred5 = regressor.predict(df_5_X_valid)"
   ]
  },
  {
   "cell_type": "code",
   "execution_count": 162,
   "metadata": {
    "scrolled": true
   },
   "outputs": [
    {
     "name": "stdout",
     "output_type": "stream",
     "text": [
      "39.47416141124202 45.84375735245103 45.739027097111496 42.15037261802575 47.06625777880595\n",
      "44.05471525152725\n"
     ]
    }
   ],
   "source": [
    "MAE_1 = mean_absolute_error(df_1_Y_valid[['target']], y_pred1, sample_weight=None, multioutput='uniform_average')\n",
    "MAE_2 = mean_absolute_error(df_2_Y_valid[['target']], y_pred2, sample_weight=None, multioutput='uniform_average')\n",
    "MAE_3 = mean_absolute_error(df_3_Y_valid[['target']], y_pred3, sample_weight=None, multioutput='uniform_average')\n",
    "MAE_4 = mean_absolute_error(df_4_Y_valid[['target']], y_pred4, sample_weight=None, multioutput='uniform_average')\n",
    "MAE_5 = mean_absolute_error(df_5_Y_valid[['target']], y_pred5, sample_weight=None, multioutput='uniform_average')\n",
    "print(MAE_1, MAE_2, MAE_3, MAE_4, MAE_5)\n",
    "soma=sum([MAE_1, MAE_2, MAE_3, MAE_4, MAE_5])\n",
    "print(soma/5)"
   ]
  },
  {
   "cell_type": "code",
   "execution_count": 163,
   "metadata": {},
   "outputs": [
    {
     "name": "stdout",
     "output_type": "stream",
     "text": [
      "488.6346492571813\n"
     ]
    }
   ],
   "source": [
    "MAE = mean_absolute_error(df_1_Y_test.sample(200)['target'], y_pred1t, sample_weight=None, multioutput='uniform_average')\n",
    "print(MAE)"
   ]
  }
 ],
 "metadata": {
  "kernelspec": {
   "display_name": "Python 3",
   "language": "python",
   "name": "python3"
  },
  "language_info": {
   "codemirror_mode": {
    "name": "ipython",
    "version": 3
   },
   "file_extension": ".py",
   "mimetype": "text/x-python",
   "name": "python",
   "nbconvert_exporter": "python",
   "pygments_lexer": "ipython3",
   "version": "3.6.8"
  }
 },
 "nbformat": 4,
 "nbformat_minor": 2
}
